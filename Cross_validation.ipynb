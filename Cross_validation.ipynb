{
  "nbformat": 4,
  "nbformat_minor": 0,
  "metadata": {
    "colab": {
      "provenance": [],
      "gpuType": "T4",
      "authorship_tag": "ABX9TyMbnhn3AuTtcdW+b+1PimXd",
      "include_colab_link": true
    },
    "kernelspec": {
      "name": "python3",
      "display_name": "Python 3"
    },
    "language_info": {
      "name": "python"
    },
    "accelerator": "GPU"
  },
  "cells": [
    {
      "cell_type": "markdown",
      "metadata": {
        "id": "view-in-github",
        "colab_type": "text"
      },
      "source": [
        "<a href=\"https://colab.research.google.com/github/JavZon/Machine_Learning/blob/main/Cross_validation.ipynb\" target=\"_parent\"><img src=\"https://colab.research.google.com/assets/colab-badge.svg\" alt=\"Open In Colab\"/></a>"
      ]
    },
    {
      "cell_type": "code",
      "execution_count": 1,
      "metadata": {
        "id": "9tAD-cQ-whGA"
      },
      "outputs": [],
      "source": [
        "import pandas as pd\n",
        "import numpy as np\n",
        "import seaborn as sns\n",
        "import sklearn"
      ]
    },
    {
      "cell_type": "markdown",
      "source": [
        "Datasetni chaqiramiz"
      ],
      "metadata": {
        "id": "CZbIvbkQw96k"
      }
    },
    {
      "cell_type": "code",
      "source": [
        "URL = \"https://github.com/ageron/handson-ml2/blob/master/datasets/housing/housing.csv?raw=true\"\n",
        "df = pd.read_csv(URL)\n",
        "X_num=df.drop(['median_house_value','ocean_proximity'],axis=1)"
      ],
      "metadata": {
        "id": "FoH8wGyjw4wf"
      },
      "execution_count": 2,
      "outputs": []
    },
    {
      "cell_type": "markdown",
      "source": [
        "**Transformerni** chaqiramiz"
      ],
      "metadata": {
        "id": "gkeWfdlDxEv0"
      }
    },
    {
      "cell_type": "code",
      "source": [
        "from sklearn.base import BaseEstimator, TransformerMixin\n",
        "rooms_ix, bedrooms_ix, population_ix, households_ix = 3, 4, 5, 6\n",
        "\n",
        "class CustomTransformer(BaseEstimator, TransformerMixin):\n",
        "    def __init__(self):\n",
        "      pass\n",
        "    def fit(self, X, y=None):\n",
        "      return self\n",
        "    def transform(self, X):\n",
        "      rooms_per_household=X[:, rooms_ix] / X[:, households_ix]\n",
        "      population_per_household=X[:, population_ix] / X[:, households_ix]\n",
        "      return np.c_[X, rooms_per_household, population_per_household]"
      ],
      "metadata": {
        "id": "PZmAYF4ww40G"
      },
      "execution_count": 3,
      "outputs": []
    },
    {
      "cell_type": "markdown",
      "source": [
        "**Numerical** pipeline"
      ],
      "metadata": {
        "id": "tE2OnhN0xQ8c"
      }
    },
    {
      "cell_type": "code",
      "source": [
        "from sklearn.preprocessing import StandardScaler\n",
        "from sklearn.impute import SimpleImputer\n",
        "from sklearn.pipeline import Pipeline\n",
        "\n",
        "numeric_pipeline=Pipeline([\n",
        "    ('imputer', SimpleImputer(strategy='median')),\n",
        "    ('custom_obj_adder', CustomTransformer()),\n",
        "    ('std_scaler', StandardScaler())\n",
        "])"
      ],
      "metadata": {
        "id": "09T-DnC4w43n"
      },
      "execution_count": 4,
      "outputs": []
    },
    {
      "cell_type": "markdown",
      "source": [
        "**Full pipeline**"
      ],
      "metadata": {
        "id": "Em8Jl8j4xVs0"
      }
    },
    {
      "cell_type": "code",
      "source": [
        "from sklearn.compose import ColumnTransformer\n",
        "from sklearn.preprocessing import OneHotEncoder, StandardScaler\n",
        "\n",
        "num_cols=list(X_num.columns)\n",
        "string_cols=['ocean_proximity']\n",
        "\n",
        "full_pipeline=ColumnTransformer([\n",
        "    ('numeric', numeric_pipeline, num_cols),\n",
        "    ('string_cat',OneHotEncoder(handle_unknown='ignore'), string_cols)\n",
        "])"
      ],
      "metadata": {
        "id": "ugf6p5Sqw47E"
      },
      "execution_count": 5,
      "outputs": []
    },
    {
      "cell_type": "markdown",
      "source": [
        "**Cross Validation** usuli"
      ],
      "metadata": {
        "id": "VcGuVyUhyzml"
      }
    },
    {
      "cell_type": "markdown",
      "source": [
        "Bu usul datasetni train va test setlarga ajratmaydi, balki biz necha qismga ajrat desak o'shancha qismga ajratadi va 1 qismini test uchun olib qo'yadi va qolganlarini train uchun ishlatadi. Masalan k=5 (5 qismga ajrat desak) butun datasetni qismga bo'ladi va modelning aniqligini 5 marta hisoblaydi. Bunda 1-martasida 1-qism test uchun olib qo'yiladi 2,3,4,5-qismlar train qilinadi. 2-martasida 2-qism test, 1,3,4,5 train bo'ladi. 3-martada 3-qism test, 1,2,4,5 train, 4-martada 4-qism test, 1,2,3,5 train va 5-martada 5-qism test 1,2,3,4 train bo'ladi. Har biri uchun alohida-alohida rmse hisoblaydi. Biz shu RMSE larni qo'shib 5ga bo'lsak butun dataset uchun yakuniy RMSE kelib chiqadi"
      ],
      "metadata": {
        "id": "h3Ej-B_o31GV"
      }
    },
    {
      "cell_type": "code",
      "source": [
        "from sklearn.model_selection import cross_val_score"
      ],
      "metadata": {
        "id": "GO1zRfL5zR6m"
      },
      "execution_count": 6,
      "outputs": []
    },
    {
      "cell_type": "markdown",
      "source": [
        "Datasetni tayyorlab olamiz"
      ],
      "metadata": {
        "id": "tGZNhTCu2Rv0"
      }
    },
    {
      "cell_type": "code",
      "source": [
        "X = df.drop(\"median_house_value\", axis=1) # Labelni olib tashlab X featuresning o'zini qoldiramiz\n",
        "y = df[\"median_house_value\"].copy() # Labelni saqlab olamiz\n",
        "\n",
        "X_num=df.drop(['median_house_value','ocean_proximity'], axis=1) # sonli columnlar ishlashi uchun faqat labelni va category columni drop qilamiz\n",
        "\n",
        "X_prepared = full_pipeline.fit_transform(X)"
      ],
      "metadata": {
        "id": "2Y3FLXpvw499"
      },
      "execution_count": 7,
      "outputs": []
    },
    {
      "cell_type": "markdown",
      "source": [
        "**LinearRegression** ni chaqirib model yaratamiz"
      ],
      "metadata": {
        "id": "LoqSo1Ur3Zpd"
      }
    },
    {
      "cell_type": "code",
      "source": [
        "from sklearn.linear_model import LinearRegression\n",
        "LR_model=LinearRegression()"
      ],
      "metadata": {
        "id": "HUzPFSz_zgtt"
      },
      "execution_count": 8,
      "outputs": []
    },
    {
      "cell_type": "markdown",
      "source": [
        "**RMSE** using LR_model"
      ],
      "metadata": {
        "id": "NMO_Lr74YgAJ"
      }
    },
    {
      "cell_type": "code",
      "source": [
        "scores = cross_val_score(LR_model, X_prepared, y, scoring=\"neg_root_mean_squared_error\", cv=5)\n",
        "print(-scores)\n",
        "print(\"RMSE =\",-scores.mean())"
      ],
      "metadata": {
        "colab": {
          "base_uri": "https://localhost:8080/"
        },
        "id": "INj0pYGTVJET",
        "outputId": "bb6bd130-b9ce-41ac-b79a-1e3bbbf82344"
      },
      "execution_count": 17,
      "outputs": [
        {
          "output_type": "stream",
          "name": "stdout",
          "text": [
            "[73401.50237805 75581.31110081 75683.02945871 77187.27760314\n",
            " 66370.08542016]\n",
            "RMSE = 73644.64119217482\n"
          ]
        }
      ]
    },
    {
      "cell_type": "markdown",
      "source": [
        "**RandomForest** ni chaqirib model yaratamiz"
      ],
      "metadata": {
        "id": "Ysy-nZdO3lk0"
      }
    },
    {
      "cell_type": "code",
      "source": [
        "from sklearn.ensemble import RandomForestRegressor\n",
        "RF_model=RandomForestRegressor()"
      ],
      "metadata": {
        "id": "J40AaQ_ZzxBl"
      },
      "execution_count": 10,
      "outputs": []
    },
    {
      "cell_type": "markdown",
      "source": [
        "**RMSE** using RF_model"
      ],
      "metadata": {
        "id": "eKgBC_HtYod0"
      }
    },
    {
      "cell_type": "code",
      "source": [
        "scores=cross_val_score(RF_model, X_prepared, y, scoring=\"neg_root_mean_squared_error\", cv=5)\n",
        "print(-scores)\n",
        "print(\"RMSE =\",-scores.mean())"
      ],
      "metadata": {
        "colab": {
          "base_uri": "https://localhost:8080/"
        },
        "id": "Vf9I5WHkYtCb",
        "outputId": "bf3d3d45-bbdd-4da4-d03e-47ce3595fe3a"
      },
      "execution_count": 18,
      "outputs": [
        {
          "output_type": "stream",
          "name": "stdout",
          "text": [
            "[76726.61902321 63789.37852752 61633.31824663 80609.56949339\n",
            " 62468.35657213]\n",
            "RMSE = 69045.44837257519\n"
          ]
        }
      ]
    },
    {
      "cell_type": "markdown",
      "source": [
        "**Decision Tree** Algoritmi"
      ],
      "metadata": {
        "id": "aoWLnbP8C5ta"
      }
    },
    {
      "cell_type": "code",
      "source": [
        "from sklearn.tree import DecisionTreeRegressor\n",
        "Tree_model = DecisionTreeRegressor()"
      ],
      "metadata": {
        "id": "730ZBPl619e3"
      },
      "execution_count": 19,
      "outputs": []
    },
    {
      "cell_type": "markdown",
      "source": [
        "RMSE using Tree_model"
      ],
      "metadata": {
        "id": "9Cl-u9NTZo30"
      }
    },
    {
      "cell_type": "code",
      "source": [
        "scores=cross_val_score(Tree_model, X_prepared, y, scoring=\"neg_root_mean_squared_error\", cv=5)\n",
        "print(-scores)\n",
        "print(\"RMSE =\",-scores.mean())"
      ],
      "metadata": {
        "colab": {
          "base_uri": "https://localhost:8080/"
        },
        "id": "YYWc6BB11-St",
        "outputId": "8d6affc1-efec-4c7a-afc0-bcf3bf6c25fb"
      },
      "execution_count": 20,
      "outputs": [
        {
          "output_type": "stream",
          "name": "stdout",
          "text": [
            "[ 99767.34295428  82920.29099136  82709.4555248  108394.40629504\n",
            "  82416.72745469]\n",
            "RMSE = 91241.64464403316\n"
          ]
        }
      ]
    }
  ]
}