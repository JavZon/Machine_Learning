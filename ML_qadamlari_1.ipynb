{
  "nbformat": 4,
  "nbformat_minor": 0,
  "metadata": {
    "colab": {
      "provenance": [],
      "gpuType": "T4",
      "authorship_tag": "ABX9TyO+phez7BZiZKFOewFFD6on",
      "include_colab_link": true
    },
    "kernelspec": {
      "name": "python3",
      "display_name": "Python 3"
    },
    "language_info": {
      "name": "python"
    },
    "accelerator": "GPU"
  },
  "cells": [
    {
      "cell_type": "markdown",
      "metadata": {
        "id": "view-in-github",
        "colab_type": "text"
      },
      "source": [
        "<a href=\"https://colab.research.google.com/github/JavZon/Machine_Learning/blob/main/ML_qadamlari_1.ipynb\" target=\"_parent\"><img src=\"https://colab.research.google.com/assets/colab-badge.svg\" alt=\"Open In Colab\"/></a>"
      ]
    },
    {
      "cell_type": "code",
      "execution_count": 1,
      "metadata": {
        "id": "G21JMHGHXYa_"
      },
      "outputs": [],
      "source": [
        "import pandas as pd\n",
        "import numpy as np\n",
        "import matplotlib.pyplot as plt\n",
        "%matplotlib inline\n",
        "import sklearn"
      ]
    },
    {
      "cell_type": "code",
      "source": [
        "from sklearn.model_selection import train_test_split\n",
        "from sklearn.linear_model import LinearRegression\n",
        "from sklearn.metrics import mean_absolute_error\n",
        "\n",
        "data = {\n",
        "    'House Size (sqft)': [1500, 2000, 1800, 2200, 1700, 1900, 2100, 2300, 1600, 2400],\n",
        "    'Price ($)': [250000, 350000, 300000, 400000, 280000, 320000, 380000, 420000, 270000, 440000]\n",
        "}\n",
        "df = pd.DataFrame(data)\n",
        "\n",
        "# Split the dataset into training, validation, and testing sets\n",
        "train_val_data, test_data = train_test_split(df, test_size=0.15, random_state=42)\n",
        "train_data, val_data = train_test_split(train_val_data, test_size=0.1765, random_state=42)  # 0.15 / (1 - 0.15)\n",
        "\n",
        "# Separate features (X) and target variable (y)\n",
        "X_train = train_data[['House Size (sqft)']]\n",
        "y_train = train_data['Price ($)']\n",
        "\n",
        "X_val = val_data[['House Size (sqft)']]\n",
        "y_val = val_data['Price ($)']\n",
        "\n",
        "X_test = test_data[['House Size (sqft)']]\n",
        "y_test = test_data['Price ($)']\n",
        "\n",
        "# Train a linear regression model on the training set\n",
        "model = LinearRegression()\n",
        "model.fit(X_train, y_train)\n",
        "\n",
        "# Make predictions on the validation set\n",
        "y_val_pred = model.predict(X_val)\n",
        "\n",
        "# Make predictions on the testing set\n",
        "y_test_pred = model.predict(X_test)\n",
        "\n",
        "# Evaluate model performance on the validation set\n",
        "val_mae = mean_absolute_error(y_val, y_val_pred)\n",
        "\n",
        "# Evaluate model performance on the testing set\n",
        "test_mae = mean_absolute_error(y_test, y_test_pred)\n",
        "\n",
        "print(\"Validation MAE:\", val_mae)\n",
        "print(\"Testing MAE:\", test_mae)\n"
      ],
      "metadata": {
        "colab": {
          "base_uri": "https://localhost:8080/"
        },
        "id": "TmF9Jm6DM-lm",
        "outputId": "69511148-bbb9-4639-a616-cddc40e65d91"
      },
      "execution_count": 3,
      "outputs": [
        {
          "output_type": "stream",
          "name": "stdout",
          "text": [
            "Validation MAE: 12204.968944099353\n",
            "Testing MAE: 9254.65838509315\n"
          ]
        }
      ]
    },
    {
      "cell_type": "code",
      "source": [],
      "metadata": {
        "id": "mFXBDTOpM-ol"
      },
      "execution_count": null,
      "outputs": []
    },
    {
      "cell_type": "code",
      "source": [],
      "metadata": {
        "id": "OW3l_gAdM-r8"
      },
      "execution_count": null,
      "outputs": []
    },
    {
      "cell_type": "code",
      "source": [],
      "metadata": {
        "id": "cknXrECLM-u8"
      },
      "execution_count": null,
      "outputs": []
    },
    {
      "cell_type": "code",
      "source": [],
      "metadata": {
        "id": "H9CpPWG9M-x8"
      },
      "execution_count": null,
      "outputs": []
    }
  ]
}